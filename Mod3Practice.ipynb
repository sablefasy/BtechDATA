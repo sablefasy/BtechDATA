{
  "cells": [
    {
      "cell_type": "markdown",
      "metadata": {
        "id": "view-in-github",
        "colab_type": "text"
      },
      "source": [
        "<a href=\"https://colab.research.google.com/github/sablefasy/BtechDATA/blob/main/Mod3Practice.ipynb\" target=\"_parent\"><img src=\"https://colab.research.google.com/assets/colab-badge.svg\" alt=\"Open In Colab\"/></a>"
      ]
    },
    {
      "cell_type": "code",
      "execution_count": 16,
      "metadata": {
        "id": "ZkrupHuykQ56"
      },
      "outputs": [],
      "source": [
        "import pandas as pd\n",
        "import requests\n",
        "from bs4 import BeautifulSoup"
      ]
    },
    {
      "cell_type": "code",
      "execution_count": 17,
      "metadata": {
        "id": "cj4n3sewnEDW"
      },
      "outputs": [],
      "source": [
        "response = requests.get('https://btech-data-analytics.github.io/bridgerland-technical-college/employees_3.html').text"
      ]
    },
    {
      "cell_type": "code",
      "execution_count": 18,
      "metadata": {
        "id": "xdnSl5pFoA4x"
      },
      "outputs": [],
      "source": [
        "soup =  BeautifulSoup(response, 'html.parser')"
      ]
    },
    {
      "cell_type": "code",
      "execution_count": 19,
      "metadata": {
        "colab": {
          "base_uri": "https://localhost:8080/"
        },
        "id": "FOBj6taGom-S",
        "outputId": "4ccc3b81-5991-4948-e973-fcda4eb8bb4f"
      },
      "outputs": [
        {
          "output_type": "execute_result",
          "data": {
            "text/plain": [
              "[<tr class=\"employee\">\n",
              " <td>101</td>\n",
              " <td>John Doe</td>\n",
              " <td>28</td>\n",
              " </tr>,\n",
              " <tr class=\"employee\">\n",
              " <td>102</td>\n",
              " <td>Jane Smith</td>\n",
              " <td>32</td>\n",
              " </tr>,\n",
              " <tr class=\"employee\">\n",
              " <td>103</td>\n",
              " <td>Robert Johnson</td>\n",
              " <td>24</td>\n",
              " </tr>,\n",
              " <tr class=\"employee\">\n",
              " <td>104</td>\n",
              " <td>Mary Johnson</td>\n",
              " <td>29</td>\n",
              " </tr>,\n",
              " <tr class=\"employee\">\n",
              " <td>105</td>\n",
              " <td>Michael Brown</td>\n",
              " <td>35</td>\n",
              " </tr>,\n",
              " <tr class=\"employee\">\n",
              " <td>106</td>\n",
              " <td>Susan Davis</td>\n",
              " <td>27</td>\n",
              " </tr>,\n",
              " <tr class=\"employee\">\n",
              " <td>107</td>\n",
              " <td>David Wilson</td>\n",
              " <td>31</td>\n",
              " </tr>,\n",
              " <tr class=\"employee\">\n",
              " <td>108</td>\n",
              " <td>Linda Miller</td>\n",
              " <td>33</td>\n",
              " </tr>]"
            ]
          },
          "metadata": {},
          "execution_count": 19
        }
      ],
      "source": [
        "soup.find('table').find_all('tr',  class_='employee')"
      ]
    },
    {
      "cell_type": "code",
      "source": [
        "id = []\n",
        "name = []\n",
        "age = []\n",
        "\n",
        "\n",
        "for employee in soup.find('table').find_all('tr',  class_='employee'):\n",
        " id.append(employee.find_all('td')[0].text)\n",
        " name.append(employee.find_all('td')[1].text)\n",
        " age.append(employee.find_all('td')[2].text)"
      ],
      "metadata": {
        "id": "l4zciKYQTyMg"
      },
      "execution_count": 21,
      "outputs": []
    },
    {
      "cell_type": "code",
      "source": [
        "age"
      ],
      "metadata": {
        "colab": {
          "base_uri": "https://localhost:8080/"
        },
        "id": "smJAuojTyfXN",
        "outputId": "faa9e347-de14-4e7d-dda2-2e8d8c9d1e12"
      },
      "execution_count": 22,
      "outputs": [
        {
          "output_type": "execute_result",
          "data": {
            "text/plain": [
              "['28', '32', '24', '29', '35', '27', '31', '33']"
            ]
          },
          "metadata": {},
          "execution_count": 22
        }
      ]
    },
    {
      "cell_type": "code",
      "source": [
        "df = pd.DataFrame({'id': id, 'name': name, 'age': age})"
      ],
      "metadata": {
        "id": "08_rqf6g1sDF"
      },
      "execution_count": 24,
      "outputs": []
    },
    {
      "cell_type": "code",
      "source": [
        "df.info()"
      ],
      "metadata": {
        "colab": {
          "base_uri": "https://localhost:8080/"
        },
        "id": "Y1uGSnEU1wWm",
        "outputId": "22677216-bc87-4cff-dd78-a35e3adadce3"
      },
      "execution_count": 25,
      "outputs": [
        {
          "output_type": "stream",
          "name": "stdout",
          "text": [
            "<class 'pandas.core.frame.DataFrame'>\n",
            "RangeIndex: 8 entries, 0 to 7\n",
            "Data columns (total 3 columns):\n",
            " #   Column  Non-Null Count  Dtype \n",
            "---  ------  --------------  ----- \n",
            " 0   id      8 non-null      object\n",
            " 1   name    8 non-null      object\n",
            " 2   age     8 non-null      object\n",
            "dtypes: object(3)\n",
            "memory usage: 324.0+ bytes\n"
          ]
        }
      ]
    },
    {
      "cell_type": "code",
      "source": [
        "df['age'] = df['age'].astype(int)\n",
        "print(df['age'].mean())"
      ],
      "metadata": {
        "colab": {
          "base_uri": "https://localhost:8080/"
        },
        "id": "7D7EHvXF1-Pa",
        "outputId": "0db76a9f-15f0-4792-92ca-87ee1ec14fef"
      },
      "execution_count": 28,
      "outputs": [
        {
          "output_type": "stream",
          "name": "stdout",
          "text": [
            "29.875\n"
          ]
        }
      ]
    },
    {
      "cell_type": "code",
      "source": [
        "print(df['age'].std())"
      ],
      "metadata": {
        "colab": {
          "base_uri": "https://localhost:8080/"
        },
        "id": "2Z-5htfQ2YGD",
        "outputId": "ce642d14-8338-4f93-f2c1-be1402f0584b"
      },
      "execution_count": 29,
      "outputs": [
        {
          "output_type": "stream",
          "name": "stdout",
          "text": [
            "3.563204817496262\n"
          ]
        }
      ]
    }
  ],
  "metadata": {
    "colab": {
      "provenance": [],
      "authorship_tag": "ABX9TyMSqaT2R0zjNx2KIYGwtbEp",
      "include_colab_link": true
    },
    "kernelspec": {
      "display_name": "Python 3",
      "name": "python3"
    },
    "language_info": {
      "name": "python"
    }
  },
  "nbformat": 4,
  "nbformat_minor": 0
}