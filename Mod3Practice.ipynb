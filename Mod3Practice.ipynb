{
  "nbformat": 4,
  "nbformat_minor": 0,
  "metadata": {
    "colab": {
      "provenance": [],
      "authorship_tag": "ABX9TyPuelXElJqB5A553j/E0cDt",
      "include_colab_link": true
    },
    "kernelspec": {
      "name": "python3",
      "display_name": "Python 3"
    },
    "language_info": {
      "name": "python"
    }
  },
  "cells": [
    {
      "cell_type": "markdown",
      "metadata": {
        "id": "view-in-github",
        "colab_type": "text"
      },
      "source": [
        "<a href=\"https://colab.research.google.com/github/sablefasy/BtechDATA/blob/main/Mod3Practice.ipynb\" target=\"_parent\"><img src=\"https://colab.research.google.com/assets/colab-badge.svg\" alt=\"Open In Colab\"/></a>"
      ]
    },
    {
      "cell_type": "code",
      "execution_count": 1,
      "metadata": {
        "id": "ZkrupHuykQ56"
      },
      "outputs": [],
      "source": [
        "import pandas as pd\n",
        "import requests\n",
        "from bs4 import BeautifulSoup"
      ]
    },
    {
      "cell_type": "code",
      "source": [
        "response = requests.get('https://btech-data-analytics.github.io/bridgerland-technical-college/employees_3.html').text"
      ],
      "metadata": {
        "id": "cj4n3sewnEDW"
      },
      "execution_count": 2,
      "outputs": []
    },
    {
      "cell_type": "code",
      "source": [
        "soup =  BeautifulSoup(response, 'html.parser')"
      ],
      "metadata": {
        "id": "xdnSl5pFoA4x"
      },
      "execution_count": 3,
      "outputs": []
    },
    {
      "cell_type": "code",
      "source": [
        "id = []\n",
        "name = []\n",
        "age = []\n",
        "\n",
        "for employee in soup.find('table').find_all('tr',  class_='employee'):\n",
        "  id.append(employee.find_all('td')[0].text)\n",
        "  name.append(employee.find_all('td')[1].text)\n",
        "  age.append(employee.find_all('td')[2].text)\n"
      ],
      "metadata": {
        "id": "FOBj6taGom-S"
      },
      "execution_count": 24,
      "outputs": []
    },
    {
      "cell_type": "code",
      "source": [
        "age"
      ],
      "metadata": {
        "colab": {
          "base_uri": "https://localhost:8080/"
        },
        "id": "FyfpQEAnkepg",
        "outputId": "2d5a5411-c5ac-47c4-9d84-37cc77805b91"
      },
      "execution_count": 25,
      "outputs": [
        {
          "output_type": "execute_result",
          "data": {
            "text/plain": [
              "['28', '32', '24', '29', '35', '27', '31', '33']"
            ]
          },
          "metadata": {},
          "execution_count": 25
        }
      ]
    },
    {
      "cell_type": "code",
      "source": [
        "df = pd.DataFrame({\n",
        "    'id': id,\n",
        "    'name': name,\n",
        "    'age': age\n",
        "})\n",
        "df.head()\n",
        "df.info()\n"
      ],
      "metadata": {
        "colab": {
          "base_uri": "https://localhost:8080/"
        },
        "id": "G_12tSq0oOhi",
        "outputId": "be1ac702-8eb1-4b86-95cb-9c4647159cc4"
      },
      "execution_count": 29,
      "outputs": [
        {
          "output_type": "stream",
          "name": "stdout",
          "text": [
            "<class 'pandas.core.frame.DataFrame'>\n",
            "RangeIndex: 8 entries, 0 to 7\n",
            "Data columns (total 3 columns):\n",
            " #   Column  Non-Null Count  Dtype \n",
            "---  ------  --------------  ----- \n",
            " 0   id      8 non-null      object\n",
            " 1   name    8 non-null      object\n",
            " 2   age     8 non-null      object\n",
            "dtypes: object(3)\n",
            "memory usage: 324.0+ bytes\n"
          ]
        }
      ]
    },
    {
      "cell_type": "code",
      "source": [
        "df['age'] = df['age'].astype(int)\n",
        "df['id'] = df['id'].astype(int)\n",
        "df.info()"
      ],
      "metadata": {
        "colab": {
          "base_uri": "https://localhost:8080/"
        },
        "id": "izpJw5Qfo8Fe",
        "outputId": "bcbc08d6-e9af-4a8e-fddb-ed955e4f690f"
      },
      "execution_count": 30,
      "outputs": [
        {
          "output_type": "stream",
          "name": "stdout",
          "text": [
            "<class 'pandas.core.frame.DataFrame'>\n",
            "RangeIndex: 8 entries, 0 to 7\n",
            "Data columns (total 3 columns):\n",
            " #   Column  Non-Null Count  Dtype \n",
            "---  ------  --------------  ----- \n",
            " 0   id      8 non-null      int64 \n",
            " 1   name    8 non-null      object\n",
            " 2   age     8 non-null      int64 \n",
            "dtypes: int64(2), object(1)\n",
            "memory usage: 324.0+ bytes\n"
          ]
        }
      ]
    },
    {
      "cell_type": "code",
      "source": [
        "average_age = df['age'].mean()\n",
        "average_age"
      ],
      "metadata": {
        "colab": {
          "base_uri": "https://localhost:8080/"
        },
        "id": "dGKEfs_ZpXUj",
        "outputId": "a87ec8d5-1706-4396-b47c-25e624e28b6d"
      },
      "execution_count": 31,
      "outputs": [
        {
          "output_type": "execute_result",
          "data": {
            "text/plain": [
              "np.float64(29.875)"
            ]
          },
          "metadata": {},
          "execution_count": 31
        }
      ]
    },
    {
      "cell_type": "code",
      "source": [
        "std_age = df['age'].std()\n",
        "std_age"
      ],
      "metadata": {
        "colab": {
          "base_uri": "https://localhost:8080/"
        },
        "id": "T4PFRjfipeci",
        "outputId": "3a8509cb-4c5f-4b18-ee5b-6969e1c7dbb8"
      },
      "execution_count": 32,
      "outputs": [
        {
          "output_type": "execute_result",
          "data": {
            "text/plain": [
              "3.563204817496262"
            ]
          },
          "metadata": {},
          "execution_count": 32
        }
      ]
    }
  ]
}