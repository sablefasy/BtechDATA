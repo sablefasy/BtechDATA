{
 "cells": [
  {
   "cell_type": "markdown",
   "id": "783bf24b-3152-404e-a691-066dbd2fa5ed",
   "metadata": {
    "id": "783bf24b-3152-404e-a691-066dbd2fa5ed"
   },
   "source": [
    "# 1.1 Introduction to matplotlib\n",
    "\n",
    "Matplotlib is a Python library that is used for producing visualizations. Much like Tableau or Power BI, matplotlib can produce bar charts, line graphs, box plots, scatter plots, and many other graph types. While it may not be as user friendly or as powerful as other visualization software, matplotlib works well with Pandas dataframes and Jupyter Lab. It is especially useful for producing ad hoc (on the fly) visualizations that will help you understand your data as you manipulate and clean it.\n",
    "\n",
    "Matplotlib is also great for preparing reports where graphs are embedded in. For example, in this Jupyter Notebook, you could import and manipulate data with Pandas, develop visualizations using matplotlib, and then write a few paragraphs describing your thoughts about the analysis. Then, you could export the entire notebook with all of its code, graphs, and text to a PDF that can easily be read by anybody.\n",
    "\n",
    "Matplotlib lets programmers specify many details about their graphs, such as the x- and y-axis limits, legend location, plot colors, graph size, and many other things. These attributes can be used to format graphs exactly how you want them to look.\n",
    "\n",
    "Only basic graphs are supported by matplotlib. If you need more complex graphs in your data analysis, you should look at the documentation for seaborn, another visualization library built on top of matplotlib.\n",
    "\n",
    "Technically, we could import matplotlib into our code by using `import matplotlib`. However, matplotlib is usually imported in a different way.\n",
    "\n",
    "Normally we import a specific set of functions from matplotlib called `pyplot`, and we do so under the alias `plt`. This allows us to use plotting functions from the `pyplot` set in the code more easily."
   ]
  },
  {
   "cell_type": "code",
   "execution_count": 1,
   "id": "9d61f0a1-0faa-4f37-b8bd-2b6701f37d88",
   "metadata": {
    "id": "9d61f0a1-0faa-4f37-b8bd-2b6701f37d88"
   },
   "outputs": [],
   "source": [
    "import matplotlib.pyplot as plt"
   ]
  },
  {
   "cell_type": "markdown",
   "id": "48f90612-7a4d-483f-a928-dac9ad42364c",
   "metadata": {
    "id": "48f90612-7a4d-483f-a928-dac9ad42364c"
   },
   "source": [
    "After importing the set of functions from matplotlib, we can use `plt` and the `plot()` function to create a simple line chart."
   ]
  },
  {
   "cell_type": "code",
   "execution_count": null,
   "id": "22bc8d84-c3ee-4109-a9a4-07dbfce9e613",
   "metadata": {
    "id": "22bc8d84-c3ee-4109-a9a4-07dbfce9e613",
    "outputId": "8e2b87cc-3fb7-4d60-e72c-e9cccd40e9ea"
   },
   "outputs": [
    {
     "data": {
      "text/plain": [
       "[<matplotlib.lines.Line2D at 0x2a1b0134dc0>]"
      ]
     },
     "execution_count": 2,
     "metadata": {},
     "output_type": "execute_result"
    },
    {
     "data": {
      "image/png": "[encoded data removed]",
      "text/plain": [
       "<Figure size 432x288 with 1 Axes>"
      ]
     },
     "metadata": {
      "needs_background": "light"
     },
     "output_type": "display_data"
    }
   ],
   "source": [
    "plt.plot([1, 2, 3, 4, 5], [2, 5, 9, 10, 3])"
   ]
  },
  {
   "cell_type": "markdown",
   "id": "7fad26f6-b479-4586-9c45-dd5a2fec4080",
   "metadata": {
    "id": "7fad26f6-b479-4586-9c45-dd5a2fec4080"
   },
   "source": [
    "## Basic Charts\n",
    "\n",
    "### Using `matplotlib`\n",
    "The line of code above might be intimidating at first, but it exemplifies the basics of all matplotlib graphs. Once you master making a simple line graph, you'll be able to easily make all kinds of other graphs.\n",
    "\n",
    "Let's look more closely at the line of code from above:\n",
    "\n",
    "```\n",
    "plt.plot([1, 2, 3, 4, 5], [2, 5, 9, 10, 3])\n",
    "```\n",
    "\n",
    "The first part of the code `plt` references the set of functions that we imported from the `matplotlib` library called `pyplot`. We abbreviated this set of functions when imported the library so that we can get functions out of it by just typing `plt` instead of `matplotlib.pyplot` every time we use a function.\n",
    "\n",
    "Next, the second part `.plot()` is one of the functions contained in `plt` that contains instructions for drawing the line. We don't need to know how the function works-- all we need to know is that it requires some data in order to know where to draw the lines.\n",
    "\n",
    "Finally, the two lists inside of the parentheses are the actual **data** that we want to graph. The first list is the x-axis data, and the second list is the y-axis data. Notice that both of them have the same amount of numbers inside of them. This is because each pair of numbers corresponds to a specific point on the graph (ie. (1, 2) (2, 5) (3, 9) (4,10) and (5,3)). Both lists always have to have the same amount of items in them.\n",
    "\n",
    "This pattern is exactly the same for most `matplotlib` graphs. As long as you can remember how to put data into your graph, you can use matplotlib!\n",
    "\n",
    "### Showing the graph\n",
    "Although we *did* successfully create a graph, we can see that printed above the graph is a `Line2D` object that looks something like this:\n",
    "\n",
    "```\n",
    "[<matplotlib.lines.Line2D at 0x22215d8bd30>]\n",
    "```\n",
    "\n",
    "The `plot()` and other graphing functions actually don't return a graph by default-- they return a list of graphs and where they are stored in memory! Because Jupyter Lab prints out the last thing returned in a cell, it printed out this list of memory locations to the screen. It's not very pretty, so we should use the `show()` function from `plt` to only display the graph and no accompanying text.\n",
    "\n",
    "To do this, simply add the line `plt.show()` below the line where you created your graph.\n",
    "\n",
    "You should **always** use the line `plt.show()` to display your graph. This function is built to render graphics to the screen and will ensure that your graph is displayed properly."
   ]
  },
  {
   "cell_type": "code",
   "execution_count": null,
   "id": "43aaec60-92a9-491b-b3db-f66dbddc0ff3",
   "metadata": {
    "id": "43aaec60-92a9-491b-b3db-f66dbddc0ff3",
    "outputId": "1b1c8025-bdc7-4b52-e249-c169b5680c38"
   },
   "outputs": [
    {
     "data": {
      "image/png": "[encoded data removed]",
      "text/plain": [
       "<Figure size 432x288 with 1 Axes>"
      ]
     },
     "metadata": {
      "needs_background": "light"
     },
     "output_type": "display_data"
    }
   ],
   "source": [
    "plt.plot([1, 2, 3, 4, 5], [2, 5, 9, 10, 3])\n",
    "plt.show()"
   ]
  },
  {
   "cell_type": "code",
   "execution_count": 2,
   "id": "29279ffa-cd23-4d64-9ba3-e5cce57c70a2",
   "metadata": {},
   "outputs": [],
   "source": [
    "import pandas as pd\n",
    "df = pd.read_csv(r\"C:\\Users\\annaf\\Downloads\\titanic.csv\")"
   ]
  },
  {
   "cell_type": "code",
   "execution_count": 3,
   "id": "c1d19c59-00b5-473d-aeaf-8e4b8c08a806",
   "metadata": {},
   "outputs": [
    {
     "data": {
      "text/html": [
       "<div>\n",
       "<style scoped>\n",
       "    .dataframe tbody tr th:only-of-type {\n",
       "        vertical-align: middle;\n",
       "    }\n",
       "\n",
       "    .dataframe tbody tr th {\n",
       "        vertical-align: top;\n",
       "    }\n",
       "\n",
       "    .dataframe thead th {\n",
       "        text-align: right;\n",
       "    }\n",
       "</style>\n",
       "<table border=\"1\" class=\"dataframe\">\n",
       "  <thead>\n",
       "    <tr style=\"text-align: right;\">\n",
       "      <th></th>\n",
       "      <th>PassengerId</th>\n",
       "      <th>Survived</th>\n",
       "      <th>Pclass</th>\n",
       "      <th>Name</th>\n",
       "      <th>Sex</th>\n",
       "      <th>Age</th>\n",
       "      <th>SibSp</th>\n",
       "      <th>Parch</th>\n",
       "      <th>Ticket</th>\n",
       "      <th>Fare</th>\n",
       "      <th>Cabin</th>\n",
       "      <th>Embarked</th>\n",
       "    </tr>\n",
       "  </thead>\n",
       "  <tbody>\n",
       "    <tr>\n",
       "      <th>0</th>\n",
       "      <td>1</td>\n",
       "      <td>0</td>\n",
       "      <td>3</td>\n",
       "      <td>Braund, Mr. Owen Harris</td>\n",
       "      <td>male</td>\n",
       "      <td>22.0</td>\n",
       "      <td>1</td>\n",
       "      <td>0</td>\n",
       "      <td>A/5 21171</td>\n",
       "      <td>7.2500</td>\n",
       "      <td>NaN</td>\n",
       "      <td>S</td>\n",
       "    </tr>\n",
       "    <tr>\n",
       "      <th>1</th>\n",
       "      <td>2</td>\n",
       "      <td>1</td>\n",
       "      <td>1</td>\n",
       "      <td>Cumings, Mrs. John Bradley (Florence Briggs Th...</td>\n",
       "      <td>female</td>\n",
       "      <td>38.0</td>\n",
       "      <td>1</td>\n",
       "      <td>0</td>\n",
       "      <td>PC 17599</td>\n",
       "      <td>71.2833</td>\n",
       "      <td>C85</td>\n",
       "      <td>C</td>\n",
       "    </tr>\n",
       "    <tr>\n",
       "      <th>2</th>\n",
       "      <td>3</td>\n",
       "      <td>1</td>\n",
       "      <td>3</td>\n",
       "      <td>Heikkinen, Miss. Laina</td>\n",
       "      <td>female</td>\n",
       "      <td>26.0</td>\n",
       "      <td>0</td>\n",
       "      <td>0</td>\n",
       "      <td>STON/O2. 3101282</td>\n",
       "      <td>7.9250</td>\n",
       "      <td>NaN</td>\n",
       "      <td>S</td>\n",
       "    </tr>\n",
       "    <tr>\n",
       "      <th>3</th>\n",
       "      <td>4</td>\n",
       "      <td>1</td>\n",
       "      <td>1</td>\n",
       "      <td>Futrelle, Mrs. Jacques Heath (Lily May Peel)</td>\n",
       "      <td>female</td>\n",
       "      <td>35.0</td>\n",
       "      <td>1</td>\n",
       "      <td>0</td>\n",
       "      <td>113803</td>\n",
       "      <td>53.1000</td>\n",
       "      <td>C123</td>\n",
       "      <td>S</td>\n",
       "    </tr>\n",
       "    <tr>\n",
       "      <th>4</th>\n",
       "      <td>5</td>\n",
       "      <td>0</td>\n",
       "      <td>3</td>\n",
       "      <td>Allen, Mr. William Henry</td>\n",
       "      <td>male</td>\n",
       "      <td>35.0</td>\n",
       "      <td>0</td>\n",
       "      <td>0</td>\n",
       "      <td>373450</td>\n",
       "      <td>8.0500</td>\n",
       "      <td>NaN</td>\n",
       "      <td>S</td>\n",
       "    </tr>\n",
       "  </tbody>\n",
       "</table>\n",
       "</div>"
      ],
      "text/plain": [
       "   PassengerId  Survived  Pclass  \\\n",
       "0            1         0       3   \n",
       "1            2         1       1   \n",
       "2            3         1       3   \n",
       "3            4         1       1   \n",
       "4            5         0       3   \n",
       "\n",
       "                                                Name     Sex   Age  SibSp  \\\n",
       "0                            Braund, Mr. Owen Harris    male  22.0      1   \n",
       "1  Cumings, Mrs. John Bradley (Florence Briggs Th...  female  38.0      1   \n",
       "2                             Heikkinen, Miss. Laina  female  26.0      0   \n",
       "3       Futrelle, Mrs. Jacques Heath (Lily May Peel)  female  35.0      1   \n",
       "4                           Allen, Mr. William Henry    male  35.0      0   \n",
       "\n",
       "   Parch            Ticket     Fare Cabin Embarked  \n",
       "0      0         A/5 21171   7.2500   NaN        S  \n",
       "1      0          PC 17599  71.2833   C85        C  \n",
       "2      0  STON/O2. 3101282   7.9250   NaN        S  \n",
       "3      0            113803  53.1000  C123        S  \n",
       "4      0            373450   8.0500   NaN        S  "
      ]
     },
     "execution_count": 3,
     "metadata": {},
     "output_type": "execute_result"
    }
   ],
   "source": [
    "df.head()"
   ]
  },
  {
   "cell_type": "markdown",
   "id": "3c2db4b0-c853-416d-b0a6-bac30b224eb4",
   "metadata": {
    "id": "3c2db4b0-c853-416d-b0a6-bac30b224eb4"
   },
   "source": [
    "As a rule of thumb, your graphs should always look like the code above. Creating a graphic with `matplotlib` will almost always span multiple lines of code, each of which starts with `plt`. That's okay! However, always make sure that `plt.show()` is the last line before displaying the graphic."
   ]
  }
 ],
 "metadata": {
  "colab": {
   "provenance": []
  },
  "kernelspec": {
   "display_name": "Python 3 (ipykernel)",
   "language": "python",
   "name": "python3"
  },
  "language_info": {
   "codemirror_mode": {
    "name": "ipython",
    "version": 3
   },
   "file_extension": ".py",
   "mimetype": "text/x-python",
   "name": "python",
   "nbconvert_exporter": "python",
   "pygments_lexer": "ipython3",
   "version": "3.13.4"
  }
 },
 "nbformat": 4,
 "nbformat_minor": 5
}
